{
 "cells": [
  {
   "cell_type": "code",
   "execution_count": null,
   "id": "599091a4",
   "metadata": {
    "papermill": {
     "duration": 0.003701,
     "end_time": "2023-10-14T19:17:42.862998",
     "exception": false,
     "start_time": "2023-10-14T19:17:42.859297",
     "status": "completed"
    },
    "tags": []
   },
   "outputs": [],
   "source": []
  },
  {
   "cell_type": "code",
   "execution_count": 1,
   "id": "f9aea71e",
   "metadata": {
    "execution": {
     "iopub.execute_input": "2023-10-14T19:17:42.874370Z",
     "iopub.status.busy": "2023-10-14T19:17:42.873248Z",
     "iopub.status.idle": "2023-10-14T19:17:45.057441Z",
     "shell.execute_reply": "2023-10-14T19:17:45.056384Z"
    },
    "papermill": {
     "duration": 2.191101,
     "end_time": "2023-10-14T19:17:45.059809",
     "exception": false,
     "start_time": "2023-10-14T19:17:42.868708",
     "status": "completed"
    },
    "tags": []
   },
   "outputs": [],
   "source": [
    "import numpy as np \n",
    "import pandas as pd\n",
    "from sklearn.preprocessing import LabelEncoder\n",
    "from sklearn.model_selection import train_test_split\n",
    "from sklearn.ensemble import RandomForestClassifier\n",
    "from sklearn.metrics import accuracy_score"
   ]
  },
  {
   "cell_type": "code",
   "execution_count": 2,
   "id": "db09b4de",
   "metadata": {
    "execution": {
     "iopub.execute_input": "2023-10-14T19:17:45.067813Z",
     "iopub.status.busy": "2023-10-14T19:17:45.067362Z",
     "iopub.status.idle": "2023-10-14T19:17:45.110007Z",
     "shell.execute_reply": "2023-10-14T19:17:45.109255Z"
    },
    "papermill": {
     "duration": 0.049236,
     "end_time": "2023-10-14T19:17:45.112358",
     "exception": false,
     "start_time": "2023-10-14T19:17:45.063122",
     "status": "completed"
    },
    "tags": []
   },
   "outputs": [],
   "source": [
    "# Charger les données \n",
    "data=pd.read_csv('/kaggle/input/breast-cancer-wisconsin-data/data.csv')"
   ]
  },
  {
   "cell_type": "code",
   "execution_count": 3,
   "id": "ce783750",
   "metadata": {
    "execution": {
     "iopub.execute_input": "2023-10-14T19:17:45.120550Z",
     "iopub.status.busy": "2023-10-14T19:17:45.120042Z",
     "iopub.status.idle": "2023-10-14T19:17:45.160519Z",
     "shell.execute_reply": "2023-10-14T19:17:45.159382Z"
    },
    "papermill": {
     "duration": 0.046884,
     "end_time": "2023-10-14T19:17:45.162538",
     "exception": false,
     "start_time": "2023-10-14T19:17:45.115654",
     "status": "completed"
    },
    "tags": []
   },
   "outputs": [
    {
     "data": {
      "text/html": [
       "<div>\n",
       "<style scoped>\n",
       "    .dataframe tbody tr th:only-of-type {\n",
       "        vertical-align: middle;\n",
       "    }\n",
       "\n",
       "    .dataframe tbody tr th {\n",
       "        vertical-align: top;\n",
       "    }\n",
       "\n",
       "    .dataframe thead th {\n",
       "        text-align: right;\n",
       "    }\n",
       "</style>\n",
       "<table border=\"1\" class=\"dataframe\">\n",
       "  <thead>\n",
       "    <tr style=\"text-align: right;\">\n",
       "      <th></th>\n",
       "      <th>id</th>\n",
       "      <th>diagnosis</th>\n",
       "      <th>radius_mean</th>\n",
       "      <th>texture_mean</th>\n",
       "      <th>perimeter_mean</th>\n",
       "      <th>area_mean</th>\n",
       "      <th>smoothness_mean</th>\n",
       "      <th>compactness_mean</th>\n",
       "      <th>concavity_mean</th>\n",
       "      <th>concave points_mean</th>\n",
       "      <th>...</th>\n",
       "      <th>texture_worst</th>\n",
       "      <th>perimeter_worst</th>\n",
       "      <th>area_worst</th>\n",
       "      <th>smoothness_worst</th>\n",
       "      <th>compactness_worst</th>\n",
       "      <th>concavity_worst</th>\n",
       "      <th>concave points_worst</th>\n",
       "      <th>symmetry_worst</th>\n",
       "      <th>fractal_dimension_worst</th>\n",
       "      <th>Unnamed: 32</th>\n",
       "    </tr>\n",
       "  </thead>\n",
       "  <tbody>\n",
       "    <tr>\n",
       "      <th>0</th>\n",
       "      <td>842302</td>\n",
       "      <td>M</td>\n",
       "      <td>17.99</td>\n",
       "      <td>10.38</td>\n",
       "      <td>122.80</td>\n",
       "      <td>1001.0</td>\n",
       "      <td>0.11840</td>\n",
       "      <td>0.27760</td>\n",
       "      <td>0.3001</td>\n",
       "      <td>0.14710</td>\n",
       "      <td>...</td>\n",
       "      <td>17.33</td>\n",
       "      <td>184.60</td>\n",
       "      <td>2019.0</td>\n",
       "      <td>0.1622</td>\n",
       "      <td>0.6656</td>\n",
       "      <td>0.7119</td>\n",
       "      <td>0.2654</td>\n",
       "      <td>0.4601</td>\n",
       "      <td>0.11890</td>\n",
       "      <td>NaN</td>\n",
       "    </tr>\n",
       "    <tr>\n",
       "      <th>1</th>\n",
       "      <td>842517</td>\n",
       "      <td>M</td>\n",
       "      <td>20.57</td>\n",
       "      <td>17.77</td>\n",
       "      <td>132.90</td>\n",
       "      <td>1326.0</td>\n",
       "      <td>0.08474</td>\n",
       "      <td>0.07864</td>\n",
       "      <td>0.0869</td>\n",
       "      <td>0.07017</td>\n",
       "      <td>...</td>\n",
       "      <td>23.41</td>\n",
       "      <td>158.80</td>\n",
       "      <td>1956.0</td>\n",
       "      <td>0.1238</td>\n",
       "      <td>0.1866</td>\n",
       "      <td>0.2416</td>\n",
       "      <td>0.1860</td>\n",
       "      <td>0.2750</td>\n",
       "      <td>0.08902</td>\n",
       "      <td>NaN</td>\n",
       "    </tr>\n",
       "    <tr>\n",
       "      <th>2</th>\n",
       "      <td>84300903</td>\n",
       "      <td>M</td>\n",
       "      <td>19.69</td>\n",
       "      <td>21.25</td>\n",
       "      <td>130.00</td>\n",
       "      <td>1203.0</td>\n",
       "      <td>0.10960</td>\n",
       "      <td>0.15990</td>\n",
       "      <td>0.1974</td>\n",
       "      <td>0.12790</td>\n",
       "      <td>...</td>\n",
       "      <td>25.53</td>\n",
       "      <td>152.50</td>\n",
       "      <td>1709.0</td>\n",
       "      <td>0.1444</td>\n",
       "      <td>0.4245</td>\n",
       "      <td>0.4504</td>\n",
       "      <td>0.2430</td>\n",
       "      <td>0.3613</td>\n",
       "      <td>0.08758</td>\n",
       "      <td>NaN</td>\n",
       "    </tr>\n",
       "    <tr>\n",
       "      <th>3</th>\n",
       "      <td>84348301</td>\n",
       "      <td>M</td>\n",
       "      <td>11.42</td>\n",
       "      <td>20.38</td>\n",
       "      <td>77.58</td>\n",
       "      <td>386.1</td>\n",
       "      <td>0.14250</td>\n",
       "      <td>0.28390</td>\n",
       "      <td>0.2414</td>\n",
       "      <td>0.10520</td>\n",
       "      <td>...</td>\n",
       "      <td>26.50</td>\n",
       "      <td>98.87</td>\n",
       "      <td>567.7</td>\n",
       "      <td>0.2098</td>\n",
       "      <td>0.8663</td>\n",
       "      <td>0.6869</td>\n",
       "      <td>0.2575</td>\n",
       "      <td>0.6638</td>\n",
       "      <td>0.17300</td>\n",
       "      <td>NaN</td>\n",
       "    </tr>\n",
       "    <tr>\n",
       "      <th>4</th>\n",
       "      <td>84358402</td>\n",
       "      <td>M</td>\n",
       "      <td>20.29</td>\n",
       "      <td>14.34</td>\n",
       "      <td>135.10</td>\n",
       "      <td>1297.0</td>\n",
       "      <td>0.10030</td>\n",
       "      <td>0.13280</td>\n",
       "      <td>0.1980</td>\n",
       "      <td>0.10430</td>\n",
       "      <td>...</td>\n",
       "      <td>16.67</td>\n",
       "      <td>152.20</td>\n",
       "      <td>1575.0</td>\n",
       "      <td>0.1374</td>\n",
       "      <td>0.2050</td>\n",
       "      <td>0.4000</td>\n",
       "      <td>0.1625</td>\n",
       "      <td>0.2364</td>\n",
       "      <td>0.07678</td>\n",
       "      <td>NaN</td>\n",
       "    </tr>\n",
       "  </tbody>\n",
       "</table>\n",
       "<p>5 rows × 33 columns</p>\n",
       "</div>"
      ],
      "text/plain": [
       "         id diagnosis  radius_mean  texture_mean  perimeter_mean  area_mean  \\\n",
       "0    842302         M        17.99         10.38          122.80     1001.0   \n",
       "1    842517         M        20.57         17.77          132.90     1326.0   \n",
       "2  84300903         M        19.69         21.25          130.00     1203.0   \n",
       "3  84348301         M        11.42         20.38           77.58      386.1   \n",
       "4  84358402         M        20.29         14.34          135.10     1297.0   \n",
       "\n",
       "   smoothness_mean  compactness_mean  concavity_mean  concave points_mean  \\\n",
       "0          0.11840           0.27760          0.3001              0.14710   \n",
       "1          0.08474           0.07864          0.0869              0.07017   \n",
       "2          0.10960           0.15990          0.1974              0.12790   \n",
       "3          0.14250           0.28390          0.2414              0.10520   \n",
       "4          0.10030           0.13280          0.1980              0.10430   \n",
       "\n",
       "   ...  texture_worst  perimeter_worst  area_worst  smoothness_worst  \\\n",
       "0  ...          17.33           184.60      2019.0            0.1622   \n",
       "1  ...          23.41           158.80      1956.0            0.1238   \n",
       "2  ...          25.53           152.50      1709.0            0.1444   \n",
       "3  ...          26.50            98.87       567.7            0.2098   \n",
       "4  ...          16.67           152.20      1575.0            0.1374   \n",
       "\n",
       "   compactness_worst  concavity_worst  concave points_worst  symmetry_worst  \\\n",
       "0             0.6656           0.7119                0.2654          0.4601   \n",
       "1             0.1866           0.2416                0.1860          0.2750   \n",
       "2             0.4245           0.4504                0.2430          0.3613   \n",
       "3             0.8663           0.6869                0.2575          0.6638   \n",
       "4             0.2050           0.4000                0.1625          0.2364   \n",
       "\n",
       "   fractal_dimension_worst  Unnamed: 32  \n",
       "0                  0.11890          NaN  \n",
       "1                  0.08902          NaN  \n",
       "2                  0.08758          NaN  \n",
       "3                  0.17300          NaN  \n",
       "4                  0.07678          NaN  \n",
       "\n",
       "[5 rows x 33 columns]"
      ]
     },
     "execution_count": 3,
     "metadata": {},
     "output_type": "execute_result"
    }
   ],
   "source": [
    "# vérification \n",
    "data.head()"
   ]
  },
  {
   "cell_type": "code",
   "execution_count": 4,
   "id": "0cf4a66d",
   "metadata": {
    "execution": {
     "iopub.execute_input": "2023-10-14T19:17:45.171248Z",
     "iopub.status.busy": "2023-10-14T19:17:45.170890Z",
     "iopub.status.idle": "2023-10-14T19:17:45.179266Z",
     "shell.execute_reply": "2023-10-14T19:17:45.178381Z"
    },
    "papermill": {
     "duration": 0.015041,
     "end_time": "2023-10-14T19:17:45.181200",
     "exception": false,
     "start_time": "2023-10-14T19:17:45.166159",
     "status": "completed"
    },
    "tags": []
   },
   "outputs": [],
   "source": [
    "#Supprimer les colonnes non pertinentes\n",
    "data.drop(['id', 'Unnamed: 32'], axis=1,inplace=True) "
   ]
  },
  {
   "cell_type": "code",
   "execution_count": 5,
   "id": "be7e6cbc",
   "metadata": {
    "execution": {
     "iopub.execute_input": "2023-10-14T19:17:45.190755Z",
     "iopub.status.busy": "2023-10-14T19:17:45.189681Z",
     "iopub.status.idle": "2023-10-14T19:17:45.196390Z",
     "shell.execute_reply": "2023-10-14T19:17:45.195279Z"
    },
    "papermill": {
     "duration": 0.013745,
     "end_time": "2023-10-14T19:17:45.198567",
     "exception": false,
     "start_time": "2023-10-14T19:17:45.184822",
     "status": "completed"
    },
    "tags": []
   },
   "outputs": [],
   "source": [
    "\n",
    "label_encoder = LabelEncoder()\n",
    "data['diagnosis'] = label_encoder.fit_transform(data['diagnosis'])"
   ]
  },
  {
   "cell_type": "code",
   "execution_count": 6,
   "id": "4e2b0630",
   "metadata": {
    "execution": {
     "iopub.execute_input": "2023-10-14T19:17:45.207870Z",
     "iopub.status.busy": "2023-10-14T19:17:45.207528Z",
     "iopub.status.idle": "2023-10-14T19:17:45.212943Z",
     "shell.execute_reply": "2023-10-14T19:17:45.211824Z"
    },
    "papermill": {
     "duration": 0.012583,
     "end_time": "2023-10-14T19:17:45.214984",
     "exception": false,
     "start_time": "2023-10-14T19:17:45.202401",
     "status": "completed"
    },
    "tags": []
   },
   "outputs": [],
   "source": [
    "X = data.drop('diagnosis', axis=1)\n",
    "y = data['diagnosis']"
   ]
  },
  {
   "cell_type": "code",
   "execution_count": 7,
   "id": "61f14e69",
   "metadata": {
    "execution": {
     "iopub.execute_input": "2023-10-14T19:17:45.223644Z",
     "iopub.status.busy": "2023-10-14T19:17:45.223311Z",
     "iopub.status.idle": "2023-10-14T19:17:45.230948Z",
     "shell.execute_reply": "2023-10-14T19:17:45.230049Z"
    },
    "papermill": {
     "duration": 0.014672,
     "end_time": "2023-10-14T19:17:45.233297",
     "exception": false,
     "start_time": "2023-10-14T19:17:45.218625",
     "status": "completed"
    },
    "tags": []
   },
   "outputs": [],
   "source": [
    "from sklearn.model_selection import train_test_split\n",
    "from sklearn.ensemble import RandomForestClassifier\n",
    "from sklearn.metrics import accuracy_score\n",
    "X_train, X_test, y_train, y_test = train_test_split(X, y, test_size=0.2, random_state=43)\n"
   ]
  },
  {
   "cell_type": "code",
   "execution_count": 8,
   "id": "0cda4c00",
   "metadata": {
    "execution": {
     "iopub.execute_input": "2023-10-14T19:17:45.242683Z",
     "iopub.status.busy": "2023-10-14T19:17:45.242347Z",
     "iopub.status.idle": "2023-10-14T19:17:45.247234Z",
     "shell.execute_reply": "2023-10-14T19:17:45.246330Z"
    },
    "papermill": {
     "duration": 0.011965,
     "end_time": "2023-10-14T19:17:45.249315",
     "exception": false,
     "start_time": "2023-10-14T19:17:45.237350",
     "status": "completed"
    },
    "tags": []
   },
   "outputs": [
    {
     "name": "stdout",
     "output_type": "stream",
     "text": [
      "Nombre de données d'entraînement : 455\n",
      "Nombre de données de test : 114\n"
     ]
    }
   ],
   "source": [
    "print(\"Nombre de données d'entraînement :\", X_train.shape[0])\n",
    "print(\"Nombre de données de test :\", X_test.shape[0])\n"
   ]
  },
  {
   "cell_type": "code",
   "execution_count": 9,
   "id": "76bfd79f",
   "metadata": {
    "execution": {
     "iopub.execute_input": "2023-10-14T19:17:45.257547Z",
     "iopub.status.busy": "2023-10-14T19:17:45.257265Z",
     "iopub.status.idle": "2023-10-14T19:17:45.261366Z",
     "shell.execute_reply": "2023-10-14T19:17:45.260419Z"
    },
    "papermill": {
     "duration": 0.010544,
     "end_time": "2023-10-14T19:17:45.263348",
     "exception": false,
     "start_time": "2023-10-14T19:17:45.252804",
     "status": "completed"
    },
    "tags": []
   },
   "outputs": [],
   "source": [
    "#j'ai choisis l'algorithme de RandomForestClassifier car c'est l'algorithme qui convient le mieux \n",
    "#dans le cas de \"Binary Classification\" de plus en comparant avec autres algorithmes RandomForestClassifier \n",
    "#nous donne accurancy le plus élevé "
   ]
  },
  {
   "cell_type": "code",
   "execution_count": 10,
   "id": "4412a1b5",
   "metadata": {
    "execution": {
     "iopub.execute_input": "2023-10-14T19:17:45.271920Z",
     "iopub.status.busy": "2023-10-14T19:17:45.271594Z",
     "iopub.status.idle": "2023-10-14T19:17:45.509289Z",
     "shell.execute_reply": "2023-10-14T19:17:45.508307Z"
    },
    "papermill": {
     "duration": 0.24477,
     "end_time": "2023-10-14T19:17:45.511660",
     "exception": false,
     "start_time": "2023-10-14T19:17:45.266890",
     "status": "completed"
    },
    "tags": []
   },
   "outputs": [],
   "source": [
    "model = RandomForestClassifier(random_state=43)\n",
    "model.fit(X_train, y_train)\n",
    "y_pred = model.predict(X_test)"
   ]
  },
  {
   "cell_type": "code",
   "execution_count": 11,
   "id": "57c1f833",
   "metadata": {
    "execution": {
     "iopub.execute_input": "2023-10-14T19:17:45.520547Z",
     "iopub.status.busy": "2023-10-14T19:17:45.520145Z",
     "iopub.status.idle": "2023-10-14T19:17:45.526856Z",
     "shell.execute_reply": "2023-10-14T19:17:45.525882Z"
    },
    "papermill": {
     "duration": 0.013594,
     "end_time": "2023-10-14T19:17:45.529044",
     "exception": false,
     "start_time": "2023-10-14T19:17:45.515450",
     "status": "completed"
    },
    "tags": []
   },
   "outputs": [
    {
     "name": "stdout",
     "output_type": "stream",
     "text": [
      "Accuracy: 0.9912280701754386\n"
     ]
    }
   ],
   "source": [
    "accuracy = accuracy_score(y_test, y_pred)\n",
    "print(\"Accuracy:\", accuracy)"
   ]
  },
  {
   "cell_type": "code",
   "execution_count": null,
   "id": "c8174d7f",
   "metadata": {
    "papermill": {
     "duration": 0.003304,
     "end_time": "2023-10-14T19:17:45.536070",
     "exception": false,
     "start_time": "2023-10-14T19:17:45.532766",
     "status": "completed"
    },
    "tags": []
   },
   "outputs": [],
   "source": []
  },
  {
   "cell_type": "code",
   "execution_count": null,
   "id": "e0e66acb",
   "metadata": {
    "papermill": {
     "duration": 0.003195,
     "end_time": "2023-10-14T19:17:45.542818",
     "exception": false,
     "start_time": "2023-10-14T19:17:45.539623",
     "status": "completed"
    },
    "tags": []
   },
   "outputs": [],
   "source": []
  }
 ],
 "metadata": {
  "kernelspec": {
   "display_name": "Python 3",
   "language": "python",
   "name": "python3"
  },
  "language_info": {
   "codemirror_mode": {
    "name": "ipython",
    "version": 3
   },
   "file_extension": ".py",
   "mimetype": "text/x-python",
   "name": "python",
   "nbconvert_exporter": "python",
   "pygments_lexer": "ipython3",
   "version": "3.10.12"
  },
  "papermill": {
   "default_parameters": {},
   "duration": 6.443939,
   "end_time": "2023-10-14T19:17:46.165963",
   "environment_variables": {},
   "exception": null,
   "input_path": "__notebook__.ipynb",
   "output_path": "__notebook__.ipynb",
   "parameters": {},
   "start_time": "2023-10-14T19:17:39.722024",
   "version": "2.4.0"
  }
 },
 "nbformat": 4,
 "nbformat_minor": 5
}
